{
 "cells": [
  {
   "cell_type": "markdown",
   "metadata": {},
   "source": [
    "#### Own Linear discriminant analysis ALgorithm"
   ]
  },
  {
   "cell_type": "code",
   "execution_count": 1,
   "metadata": {
    "collapsed": true
   },
   "outputs": [],
   "source": [
    "import numpy as np\n",
    "import pandas as pd\n",
    "import math\n",
    "import matplotlib.pyplot as plt\n",
    "%matplotlib inline\n"
   ]
  },
  {
   "cell_type": "code",
   "execution_count": 2,
   "metadata": {
    "collapsed": true
   },
   "outputs": [],
   "source": [
    "def my_lda(data, y):\n",
    "    n = data.shape[1]\n",
    "    mean_vectors = []\n",
    "    for cl in range(0,2):\n",
    "        mean_vectors.append(np.mean(data[y==cl], axis=0))\n",
    "    #print('Mean Vector class %s: %s\\n' %(cl, mean_vectors[cl]))\n",
    "    scatter_within = np.zeros((n,n))\n",
    "    for cl,mv in enumerate(mean_vectors):\n",
    "        scatter_within_class = np.zeros((n,n)) # scatter matrix for every class\n",
    "        for x in data[y==cl]:\n",
    "            x, mv = x.reshape(n,1), mv.reshape(n,1) # make column vectors\n",
    "            scatter_within_class += (x-mv).dot((x-mv).T)\n",
    "        scatter_within += scatter_within_class # sum class scatter matrices\n",
    "    whole_mean = np.mean(data, axis=0)\n",
    "    scatter_between = np.zeros((n,n))\n",
    "\n",
    "    for cl,mv in enumerate(mean_vectors):  \n",
    "        N = data[y==cl].shape[0] #data[y==i,:]\n",
    "        mv, whole_mean = mv.reshape(n,1), whole_mean.reshape(n,1)# make column vector\n",
    "        scatter_between += N * (mv - whole_mean).dot((mv - whole_mean).T)\n",
    "\n",
    "    scatter_within_inverse = np.linalg.inv(scatter_within)\n",
    "    w_intermediate = np.dot(scatter_within_inverse, scatter_between)\n",
    "    eig_vals, eig_vecs = np.linalg.eig(w_intermediate)\n",
    "#     print('Eigenvalues \\n%s' % eig_vals)\n",
    "    eigenIndexes=eig_vals.argsort()[::-1]\n",
    "    eig_vals = eig_vals[eigenIndexes]\n",
    "    eig_vecs = eig_vecs[:, eigenIndexes]\n",
    "    w = eig_vecs[:,:len(np.unique(y))-1]\n",
    "    Y = data.dot(w)\n",
    "    return Y, w\n"
   ]
  },
  {
   "cell_type": "code",
   "execution_count": 3,
   "metadata": {
    "collapsed": true
   },
   "outputs": [],
   "source": [
    "dataset = pd.read_csv(\"D:\\ML\\hw2\\dataset.csv\")\n",
    "#Given '0' to NSCLC & '1' to SCLC (CLASS LABELS)\n",
    "dataset[\"Unnamed: 0\"] = dataset[\"Unnamed: 0\"].apply(lambda x : 0 if x.startswith(\"NSCLC\") else 1)\n",
    "data = dataset.values\n",
    "target = data[:,0]\n",
    "x = data[:,1:]\n",
    "Y,w = my_lda(x, target)"
   ]
  },
  {
   "cell_type": "markdown",
   "metadata": {},
   "source": [
    "#### LDA with sklearn"
   ]
  },
  {
   "cell_type": "code",
   "execution_count": 4,
   "metadata": {},
   "outputs": [
    {
     "data": {
      "text/plain": [
       "LinearDiscriminantAnalysis(n_components=None, priors=None, shrinkage=None,\n",
       "              solver='svd', store_covariance=False, tol=0.0001)"
      ]
     },
     "execution_count": 4,
     "metadata": {},
     "output_type": "execute_result"
    }
   ],
   "source": [
    "from sklearn.discriminant_analysis import LinearDiscriminantAnalysis\n",
    "\n",
    "lda = LinearDiscriminantAnalysis()\n",
    "lda.fit(x,target)"
   ]
  },
  {
   "cell_type": "markdown",
   "metadata": {},
   "source": [
    "#### plot lda with sklearn to compare and verify the results with own LDA"
   ]
  },
  {
   "cell_type": "code",
   "execution_count": 5,
   "metadata": {},
   "outputs": [
    {
     "data": {
      "image/png": "[encoded data removed]",
      "text/plain": [
       "<matplotlib.figure.Figure at 0xcab3588>"
      ]
     },
     "metadata": {},
     "output_type": "display_data"
    }
   ],
   "source": [
    "plt.figure()\n",
    "plt.eventplot(lda.transform(x)[20:], orientation=\"horizontal\", color=\"b\")\n",
    "plt.eventplot(lda.transform(x)[:20], orientation=\"horizontal\", color=\"r\")\n",
    "plt.title(\"Plot sklearn LDA projections\")\n",
    "plt.show()"
   ]
  },
  {
   "cell_type": "markdown",
   "metadata": {},
   "source": [
    "#### plot Own LDA "
   ]
  },
  {
   "cell_type": "code",
   "execution_count": 6,
   "metadata": {},
   "outputs": [
    {
     "name": "stderr",
     "output_type": "stream",
     "text": [
      "C:\\Users\\erank\\Anaconda2\\lib\\site-packages\\numpy\\core\\numeric.py:531: ComplexWarning: Casting complex values to real discards the imaginary part\n",
      "  return array(a, dtype, copy=False, order=order)\n"
     ]
    },
    {
     "data": {
      "image/png": "[encoded data removed]",
      "text/plain": [
       "<matplotlib.figure.Figure at 0xcb712e8>"
      ]
     },
     "metadata": {},
     "output_type": "display_data"
    }
   ],
   "source": [
    "plt.figure()\n",
    "plt.hlines(1,1,20)\n",
    "plt.eventplot(np.dot(x, -w)[20:], orientation=\"horizontal\", color=\"b\")\n",
    "plt.eventplot(np.dot(x, -w)[:20], orientation=\"horizontal\", color=\"r\")\n",
    "plt.title(\"Plot Own LDA projections\")\n",
    "plt.show()"
   ]
  },
  {
   "cell_type": "markdown",
   "metadata": {},
   "source": [
    "#### Both the plots are similar, hence verified that my algorithm is giving ouput similar to sklearn."
   ]
  },
  {
   "cell_type": "markdown",
   "metadata": {},
   "source": [
    "#### Scatter plot"
   ]
  },
  {
   "cell_type": "code",
   "execution_count": 7,
   "metadata": {},
   "outputs": [
    {
     "name": "stderr",
     "output_type": "stream",
     "text": [
      "C:\\Users\\erank\\Anaconda2\\lib\\site-packages\\numpy\\core\\numeric.py:583: ComplexWarning: Casting complex values to real discards the imaginary part\n",
      "  return array(a, dtype, copy=False, order=order, subok=True)\n"
     ]
    },
    {
     "data": {
      "text/plain": [
       "<matplotlib.text.Text at 0xd003128>"
      ]
     },
     "execution_count": 7,
     "metadata": {},
     "output_type": "execute_result"
    },
    {
     "data": {
      "image/png": "[encoded data removed]",
      "text/plain": [
       "<matplotlib.figure.Figure at 0xd0b3ac8>"
      ]
     },
     "metadata": {},
     "output_type": "display_data"
    }
   ],
   "source": [
    "#Own LDA Scatter plot\n",
    "plt.scatter(np.dot(x, -w)[20:], np.zeros(20), c='b')\n",
    "plt.scatter(np.dot(x, -w)[:20], np.zeros(20), c='r')\n",
    "plt.title(\"own LDA scatter plot\")"
   ]
  },
  {
   "cell_type": "code",
   "execution_count": 8,
   "metadata": {},
   "outputs": [
    {
     "data": {
      "text/plain": [
       "<matplotlib.text.Text at 0xcbbfac8>"
      ]
     },
     "execution_count": 8,
     "metadata": {},
     "output_type": "execute_result"
    },
    {
     "data": {
      "image/png": "[encoded data removed]",
      "text/plain": [
       "<matplotlib.figure.Figure at 0xcf97c18>"
      ]
     },
     "metadata": {},
     "output_type": "display_data"
    }
   ],
   "source": [
    "#sklearn LDA scatter plt\n",
    "plt.scatter(lda.transform(x)[20:], np.zeros(20), c='b')\n",
    "plt.scatter(lda.transform(x)[:20], np.zeros(20), c='r')\n",
    "plt.title(\"sklearn LDA scatter plot\")"
   ]
  },
  {
   "cell_type": "code",
   "execution_count": 9,
   "metadata": {
    "collapsed": true
   },
   "outputs": [],
   "source": [
    "#Own LDA algorithm scatter plot is same as sklearn LDA. Hence verified."
   ]
  },
  {
   "cell_type": "markdown",
   "metadata": {},
   "source": [
    "#### sklearn lda with eigen values"
   ]
  },
  {
   "cell_type": "code",
   "execution_count": 10,
   "metadata": {},
   "outputs": [
    {
     "data": {
      "text/plain": [
       "LinearDiscriminantAnalysis(n_components=None, priors=None, shrinkage=None,\n",
       "              solver='eigen', store_covariance=False, tol=0.0001)"
      ]
     },
     "execution_count": 10,
     "metadata": {},
     "output_type": "execute_result"
    }
   ],
   "source": [
    "lda2 = LinearDiscriminantAnalysis(solver=\"eigen\")\n",
    "lda2.fit(x,target)"
   ]
  },
  {
   "cell_type": "code",
   "execution_count": 12,
   "metadata": {},
   "outputs": [
    {
     "data": {
      "text/plain": [
       "array([[ -1.24442678e+05],\n",
       "       [ -1.75335149e+05],\n",
       "       [ -1.38036885e+05],\n",
       "       [ -1.50052457e+05],\n",
       "       [ -1.34023449e+05],\n",
       "       [ -1.59189090e+05],\n",
       "       [ -1.32992994e+05],\n",
       "       [ -1.34277700e+05],\n",
       "       [ -1.52999674e+05],\n",
       "       [ -1.24615045e+05],\n",
       "       [ -1.50191438e+05],\n",
       "       [ -1.28925155e+05],\n",
       "       [ -1.49771614e+05],\n",
       "       [ -1.23048708e+05],\n",
       "       [ -1.47125835e+05],\n",
       "       [ -1.18233803e+05],\n",
       "       [ -1.34034716e+05],\n",
       "       [ -1.26477194e+05],\n",
       "       [ -1.24489418e+05],\n",
       "       [ -1.23922666e+05],\n",
       "       [ -1.56074533e+04],\n",
       "       [ -1.39087580e+04],\n",
       "       [ -3.02034637e+04],\n",
       "       [ -3.99816297e+04],\n",
       "       [ -2.48355018e+04],\n",
       "       [ -2.88834290e+04],\n",
       "       [ -3.30116059e+04],\n",
       "       [ -3.08934010e+04],\n",
       "       [ -2.19135686e+04],\n",
       "       [ -1.74617190e+04],\n",
       "       [  2.28182937e+03],\n",
       "       [ -1.58675246e+02],\n",
       "       [  1.99465166e+03],\n",
       "       [ -2.44801383e+04],\n",
       "       [ -3.45952702e+04],\n",
       "       [ -2.86354458e+04],\n",
       "       [  1.19369953e+03],\n",
       "       [ -9.51997160e+03],\n",
       "       [ -2.90192306e+04],\n",
       "       [ -1.90895269e+04]])"
      ]
     },
     "execution_count": 12,
     "metadata": {},
     "output_type": "execute_result"
    }
   ],
   "source": [
    "lda2.transform(x)"
   ]
  },
  {
   "cell_type": "code",
   "execution_count": 17,
   "metadata": {},
   "outputs": [
    {
     "data": {
      "text/plain": [
       "array([[ -1.24442678e+05+0.j],\n",
       "       [ -1.75335149e+05+0.j],\n",
       "       [ -1.38036885e+05+0.j],\n",
       "       [ -1.50052457e+05+0.j],\n",
       "       [ -1.34023449e+05+0.j],\n",
       "       [ -1.59189090e+05+0.j],\n",
       "       [ -1.32992994e+05+0.j],\n",
       "       [ -1.34277700e+05+0.j],\n",
       "       [ -1.52999674e+05+0.j],\n",
       "       [ -1.24615045e+05+0.j],\n",
       "       [ -1.50191438e+05+0.j],\n",
       "       [ -1.28925155e+05+0.j],\n",
       "       [ -1.49771614e+05+0.j],\n",
       "       [ -1.23048708e+05+0.j],\n",
       "       [ -1.47125835e+05+0.j],\n",
       "       [ -1.18233803e+05+0.j],\n",
       "       [ -1.34034716e+05+0.j],\n",
       "       [ -1.26477194e+05+0.j],\n",
       "       [ -1.24489418e+05+0.j],\n",
       "       [ -1.23922666e+05+0.j],\n",
       "       [ -1.56074533e+04+0.j],\n",
       "       [ -1.39087580e+04+0.j],\n",
       "       [ -3.02034637e+04+0.j],\n",
       "       [ -3.99816297e+04+0.j],\n",
       "       [ -2.48355018e+04+0.j],\n",
       "       [ -2.88834290e+04+0.j],\n",
       "       [ -3.30116059e+04+0.j],\n",
       "       [ -3.08934010e+04+0.j],\n",
       "       [ -2.19135686e+04+0.j],\n",
       "       [ -1.74617190e+04+0.j],\n",
       "       [  2.28182937e+03+0.j],\n",
       "       [ -1.58675246e+02+0.j],\n",
       "       [  1.99465166e+03+0.j],\n",
       "       [ -2.44801383e+04+0.j],\n",
       "       [ -3.45952702e+04+0.j],\n",
       "       [ -2.86354458e+04+0.j],\n",
       "       [  1.19369953e+03+0.j],\n",
       "       [ -9.51997160e+03+0.j],\n",
       "       [ -2.90192306e+04+0.j],\n",
       "       [ -1.90895269e+04+0.j]])"
      ]
     },
     "execution_count": 17,
     "metadata": {},
     "output_type": "execute_result"
    }
   ],
   "source": [
    "#As we can see sklearn eigen values and own algorithm eigen values matched.\n",
    "np.dot(x,-w)"
   ]
  },
  {
   "cell_type": "code",
   "execution_count": 18,
   "metadata": {},
   "outputs": [
    {
     "data": {
      "text/plain": [
       "<matplotlib.text.Text at 0xe21d320>"
      ]
     },
     "execution_count": 18,
     "metadata": {},
     "output_type": "execute_result"
    },
    {
     "data": {
      "image/png": "[encoded data removed]",
      "text/plain": [
       "<matplotlib.figure.Figure at 0xe1fb748>"
      ]
     },
     "metadata": {},
     "output_type": "display_data"
    }
   ],
   "source": [
    "plt.scatter(np.dot(x, -w)[20:], np.zeros(20), c='b')\n",
    "plt.scatter(np.dot(x, -w)[:20], np.zeros(20), c='r')\n",
    "plt.title(\"own LDA eigen scatter plot\")"
   ]
  },
  {
   "cell_type": "code",
   "execution_count": 19,
   "metadata": {},
   "outputs": [
    {
     "data": {
      "text/plain": [
       "<matplotlib.text.Text at 0xe400d68>"
      ]
     },
     "execution_count": 19,
     "metadata": {},
     "output_type": "execute_result"
    },
    {
     "data": {
      "image/png": "[encoded data removed]",
      "text/plain": [
       "<matplotlib.figure.Figure at 0xe3eb908>"
      ]
     },
     "metadata": {},
     "output_type": "display_data"
    }
   ],
   "source": [
    "plt.scatter(lda2.transform(x)[20:], np.zeros(20), c='b')\n",
    "plt.scatter(lda2.transform(x)[:20], np.zeros(20), c='r')\n",
    "plt.title(\"sklearn LDA scatter plot\")"
   ]
  },
  {
   "cell_type": "code",
   "execution_count": 20,
   "metadata": {
    "collapsed": true
   },
   "outputs": [],
   "source": [
    "##  Both the sklearn scatter plot and own lda algo plot matched."
   ]
  },
  {
   "cell_type": "code",
   "execution_count": null,
   "metadata": {
    "collapsed": true
   },
   "outputs": [],
   "source": []
  }
 ],
 "metadata": {
  "kernelspec": {
   "display_name": "Python 3",
   "language": "python",
   "name": "python3"
  },
  "language_info": {
   "codemirror_mode": {
    "name": "ipython",
    "version": 3
   },
   "file_extension": ".py",
   "mimetype": "text/x-python",
   "name": "python",
   "nbconvert_exporter": "python",
   "pygments_lexer": "ipython3",
   "version": "3.6.3"
  }
 },
 "nbformat": 4,
 "nbformat_minor": 2
}
